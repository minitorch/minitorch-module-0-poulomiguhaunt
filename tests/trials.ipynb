{
 "cells": [
  {
   "cell_type": "code",
   "execution_count": 2,
   "metadata": {},
   "outputs": [
    {
     "name": "stdout",
     "output_type": "stream",
     "text": [
      "Collecting hypothesis\n",
      "  Using cached hypothesis-6.100.0-py3-none-any.whl (458 kB)\n",
      "Requirement already satisfied: exceptiongroup>=1.0.0 in /Users/poulomiguha/minitorch-module-0-poulomiguha/venv/lib/python3.9/site-packages (from hypothesis) (1.2.0)\n",
      "Requirement already satisfied: sortedcontainers<3.0.0,>=2.1.0 in /Users/poulomiguha/minitorch-module-0-poulomiguha/venv/lib/python3.9/site-packages (from hypothesis) (2.4.0)\n",
      "Collecting attrs>=22.2.0\n",
      "  Using cached attrs-23.2.0-py3-none-any.whl (60 kB)\n",
      "Installing collected packages: attrs, hypothesis\n",
      "Successfully installed attrs-23.2.0 hypothesis-6.100.0\n",
      "\u001b[33mWARNING: You are using pip version 22.0.4; however, version 24.0 is available.\n",
      "You should consider upgrading via the '/Users/poulomiguha/minitorch-module-0-poulomiguha/venv/bin/python -m pip install --upgrade pip' command.\u001b[0m\u001b[33m\n",
      "\u001b[0mNote: you may need to restart the kernel to use updated packages.\n"
     ]
    }
   ],
   "source": []
  },
  {
   "cell_type": "code",
   "execution_count": 3,
   "metadata": {},
   "outputs": [],
   "source": [
    "from hypothesis import settings\n",
    "from hypothesis.strategies import floats, integers"
   ]
  },
  {
   "cell_type": "code",
   "execution_count": 4,
   "metadata": {},
   "outputs": [],
   "source": [
    "small_floats = floats(min_value=-100, max_value=100, allow_nan=False)"
   ]
  },
  {
   "cell_type": "code",
   "execution_count": 5,
   "metadata": {},
   "outputs": [
    {
     "data": {
      "text/plain": [
       "floats(min_value=-100, max_value=100, allow_nan=False)"
      ]
     },
     "execution_count": 5,
     "metadata": {},
     "output_type": "execute_result"
    }
   ],
   "source": [
    "x = small_floats\n",
    "x"
   ]
  },
  {
   "cell_type": "code",
   "execution_count": 6,
   "metadata": {},
   "outputs": [],
   "source": [
    "from hypothesis import given\n"
   ]
  },
  {
   "cell_type": "code",
   "execution_count": 10,
   "metadata": {},
   "outputs": [],
   "source": [
    "@given(small_floats, small_floats)\n",
    "def test_same_as_python(x: float, y: float) -> None:\n",
    "\n",
    "    print(\"x\",x)\n",
    "    print(\"y\",y)\n",
    "    \"Check that the main operators all return the same value of the python version\"\n",
    "    assert_close(mul(x, y), x * y)\n",
    "    assert_close(add(x, y), x + y)\n",
    "    assert_close(neg(x), -x)\n",
    "    assert_close(max(x, y), x if x > y else y)\n",
    "    if abs(x) > 1e-5:\n",
    "        assert_close(inv(x), 1.0 / x)\n",
    "    ##print(\"Count is \", count)"
   ]
  },
  {
   "cell_type": "code",
   "execution_count": null,
   "metadata": {},
   "outputs": [],
   "source": []
  }
 ],
 "metadata": {
  "kernelspec": {
   "display_name": "venv",
   "language": "python",
   "name": "python3"
  },
  "language_info": {
   "codemirror_mode": {
    "name": "ipython",
    "version": 3
   },
   "file_extension": ".py",
   "mimetype": "text/x-python",
   "name": "python",
   "nbconvert_exporter": "python",
   "pygments_lexer": "ipython3",
   "version": "3.9.12"
  }
 },
 "nbformat": 4,
 "nbformat_minor": 2
}
